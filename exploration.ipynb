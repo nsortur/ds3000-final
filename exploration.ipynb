{
 "cells": [
  {
   "cell_type": "code",
   "execution_count": 1,
   "outputs": [],
   "source": [
    "import pandas as pd"
   ],
   "metadata": {
    "collapsed": false,
    "pycharm": {
     "name": "#%%\n"
    }
   }
  },
  {
   "cell_type": "code",
   "execution_count": 2,
   "outputs": [],
   "source": [
    "# check for features that have a lot of na values (not desirable)\n",
    "feats = pd.read_csv('./data/cashflow_income_balance_feats.csv')"
   ],
   "metadata": {
    "collapsed": false,
    "pycharm": {
     "name": "#%%\n"
    }
   }
  },
  {
   "cell_type": "code",
   "execution_count": 3,
   "outputs": [],
   "source": [
    "na_vals = feats.isna().sum().to_frame()\n",
    "na_vals = na_vals.apply(lambda x: x / feats.shape[0])\n",
    "na_vals.columns = ['Percent na']"
   ],
   "metadata": {
    "collapsed": false,
    "pycharm": {
     "name": "#%%\n"
    }
   }
  },
  {
   "cell_type": "code",
   "execution_count": 4,
   "outputs": [
    {
     "name": "stdout",
     "output_type": "stream",
     "text": [
      "Features with the most missing data:\n"
     ]
    },
    {
     "data": {
      "text/plain": "                                           Percent na\nChange in Inventories                        0.931144\nChange in Accounts Payable                   0.928064\nChange in Accounts Receivable                0.908689\nChange in Other                              0.899846\nNet Extraordinary Gains (Losses)             0.788762\nLong Term Investments & Receivables          0.719360\nNet Change in Long Term Investment           0.624572\nResearch & Development                       0.604551\nTreasury Stock                               0.531969\nDividends Paid                               0.499031\nNet Cash from Acquisitions & Divestitures    0.406081\nAbnormal Gains (Losses)                      0.361121\nShort Term Debt                              0.339908\nInventories                                  0.315366\nLong Term Debt                               0.212778",
      "text/html": "<div>\n<style scoped>\n    .dataframe tbody tr th:only-of-type {\n        vertical-align: middle;\n    }\n\n    .dataframe tbody tr th {\n        vertical-align: top;\n    }\n\n    .dataframe thead th {\n        text-align: right;\n    }\n</style>\n<table border=\"1\" class=\"dataframe\">\n  <thead>\n    <tr style=\"text-align: right;\">\n      <th></th>\n      <th>Percent na</th>\n    </tr>\n  </thead>\n  <tbody>\n    <tr>\n      <th>Change in Inventories</th>\n      <td>0.931144</td>\n    </tr>\n    <tr>\n      <th>Change in Accounts Payable</th>\n      <td>0.928064</td>\n    </tr>\n    <tr>\n      <th>Change in Accounts Receivable</th>\n      <td>0.908689</td>\n    </tr>\n    <tr>\n      <th>Change in Other</th>\n      <td>0.899846</td>\n    </tr>\n    <tr>\n      <th>Net Extraordinary Gains (Losses)</th>\n      <td>0.788762</td>\n    </tr>\n    <tr>\n      <th>Long Term Investments &amp; Receivables</th>\n      <td>0.719360</td>\n    </tr>\n    <tr>\n      <th>Net Change in Long Term Investment</th>\n      <td>0.624572</td>\n    </tr>\n    <tr>\n      <th>Research &amp; Development</th>\n      <td>0.604551</td>\n    </tr>\n    <tr>\n      <th>Treasury Stock</th>\n      <td>0.531969</td>\n    </tr>\n    <tr>\n      <th>Dividends Paid</th>\n      <td>0.499031</td>\n    </tr>\n    <tr>\n      <th>Net Cash from Acquisitions &amp; Divestitures</th>\n      <td>0.406081</td>\n    </tr>\n    <tr>\n      <th>Abnormal Gains (Losses)</th>\n      <td>0.361121</td>\n    </tr>\n    <tr>\n      <th>Short Term Debt</th>\n      <td>0.339908</td>\n    </tr>\n    <tr>\n      <th>Inventories</th>\n      <td>0.315366</td>\n    </tr>\n    <tr>\n      <th>Long Term Debt</th>\n      <td>0.212778</td>\n    </tr>\n  </tbody>\n</table>\n</div>"
     },
     "execution_count": 4,
     "metadata": {},
     "output_type": "execute_result"
    }
   ],
   "source": [
    "sorted_pct_na = na_vals.sort_values(by='Percent na', ascending=False)\n",
    "print('Features with the most missing data:')\n",
    "sorted_pct_na.iloc[:15]"
   ],
   "metadata": {
    "collapsed": false,
    "pycharm": {
     "name": "#%%\n"
    }
   }
  },
  {
   "cell_type": "code",
   "execution_count": 5,
   "outputs": [],
   "source": [
    "# explore target dataset\n",
    "shareprices = pd.read_csv('./data/us-shareprices-daily.csv', sep=';')"
   ],
   "metadata": {
    "collapsed": false,
    "pycharm": {
     "name": "#%%\n"
    }
   }
  },
  {
   "cell_type": "code",
   "execution_count": 6,
   "outputs": [
    {
     "name": "stdout",
     "output_type": "stream",
     "text": [
      "proportion of share price data that's na: 0.002457031159874663\n"
     ]
    }
   ],
   "source": [
    "adj_close = shareprices[['Ticker', 'SimFinId', 'Date', 'Adj. Close']]\n",
    "print('proportion of share price data that\\'s na:',\n",
    "      adj_close['Adj. Close'].isna().sum() / shareprices.shape[0])"
   ],
   "metadata": {
    "collapsed": false,
    "pycharm": {
     "name": "#%%\n"
    }
   }
  },
  {
   "cell_type": "code",
   "execution_count": 7,
   "outputs": [
    {
     "data": {
      "text/plain": "(73.21216216216216, 6.910047152240833)"
     },
     "execution_count": 7,
     "metadata": {},
     "output_type": "execute_result"
    }
   ],
   "source": [
    "# maybe average over the year as target? try to see if variance is high\n",
    "\n",
    "# returns the mean and standard deviation of the adjusted closing price\n",
    "# of a ticker in a given year\n",
    "def central_tendencies(ticker, year):\n",
    "    filtered = adj_close[(adj_close['Ticker'] == ticker) & (adj_close['Date'].str.startswith(year))]\n",
    "    return filtered['Adj. Close'].mean(), filtered['Adj. Close'].std()\n",
    "\n",
    "central_tendencies('AAPL', '2020')"
   ],
   "metadata": {
    "collapsed": false,
    "pycharm": {
     "name": "#%%\n"
    }
   }
  }
 ],
 "metadata": {
  "kernelspec": {
   "display_name": "Python 3",
   "language": "python",
   "name": "python3"
  },
  "language_info": {
   "codemirror_mode": {
    "name": "ipython",
    "version": 2
   },
   "file_extension": ".py",
   "mimetype": "text/x-python",
   "name": "python",
   "nbconvert_exporter": "python",
   "pygments_lexer": "ipython2",
   "version": "2.7.6"
  }
 },
 "nbformat": 4,
 "nbformat_minor": 0
}