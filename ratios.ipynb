{
 "cells": [
  {
   "cell_type": "code",
   "execution_count": 1,
   "metadata": {
    "collapsed": true
   },
   "outputs": [],
   "source": [
    "import pandas as pd"
   ]
  },
  {
   "cell_type": "code",
   "execution_count": 2,
   "outputs": [
    {
     "name": "stderr",
     "output_type": "stream",
     "text": [
      "/Library/Frameworks/Python.framework/Versions/3.9/lib/python3.9/site-packages/IPython/core/interactiveshell.py:3146: DtypeWarning: Columns (3,5,6,7,8) have mixed types.Specify dtype option on import or set low_memory=False.\n",
      "  has_raised = await self.run_ast_nodes(code_ast.body, cell_name,\n"
     ]
    }
   ],
   "source": [
    "# this notebook calculates and adds relevant ratios to our data to use as features\n",
    "feats_target = pd.read_csv('./data/features_target_before_ratios.csv')"
   ],
   "metadata": {
    "collapsed": false,
    "pycharm": {
     "name": "#%%\n"
    }
   }
  },
  {
   "cell_type": "code",
   "execution_count": 3,
   "outputs": [
    {
     "data": {
      "text/plain": "(19898, 68)"
     },
     "execution_count": 3,
     "metadata": {},
     "output_type": "execute_result"
    }
   ],
   "source": [
    "# ratios/features to use:\n",
    "# EPS, PE, PEG, market cap, price to book, change in working capital\n",
    "# R&D, SGA, debt to equity\n",
    "# extras: change in revenue,\n",
    "\n",
    "feats_target.shape"
   ],
   "metadata": {
    "collapsed": false,
    "pycharm": {
     "name": "#%%\n"
    }
   }
  },
  {
   "cell_type": "code",
   "execution_count": 4,
   "outputs": [],
   "source": [
    "feats_target['EPS'] = feats_target['Net Income'] / feats_target['Shares (Diluted)']"
   ],
   "metadata": {
    "collapsed": false,
    "pycharm": {
     "name": "#%%\n"
    }
   }
  },
  {
   "cell_type": "code",
   "execution_count": 5,
   "outputs": [],
   "source": [
    "feats_target['PE'] = feats_target['Adj. Close'] / feats_target['EPS']"
   ],
   "metadata": {
    "collapsed": false,
    "pycharm": {
     "name": "#%%\n"
    }
   }
  },
  {
   "cell_type": "code",
   "execution_count": 6,
   "outputs": [
    {
     "name": "stderr",
     "output_type": "stream",
     "text": [
      "<ipython-input-6-4583a4affe1f>:3: RuntimeWarning: divide by zero encountered in double_scalars\n",
      "  feats_target.loc[i, 'EPS Growth Rate'] = (feats_target.loc[i, 'EPS'] - feats_target.loc[i - 1, 'EPS']) / abs(\n"
     ]
    }
   ],
   "source": [
    "feats_target['EPS Growth Rate'] = 0\n",
    "for i in range(1, len(feats_target)):\n",
    "    feats_target.loc[i, 'EPS Growth Rate'] = (feats_target.loc[i, 'EPS'] - feats_target.loc[i - 1, 'EPS']) / abs(\n",
    "        feats_target.loc[i - 1, 'EPS'])"
   ],
   "metadata": {
    "collapsed": false,
    "pycharm": {
     "name": "#%%\n"
    }
   }
  },
  {
   "cell_type": "code",
   "execution_count": 7,
   "outputs": [
    {
     "name": "stderr",
     "output_type": "stream",
     "text": [
      "<ipython-input-7-9975e0c61d9f>:3: SettingWithCopyWarning: \n",
      "A value is trying to be set on a copy of a slice from a DataFrame\n",
      "\n",
      "See the caveats in the documentation: https://pandas.pydata.org/pandas-docs/stable/user_guide/indexing.html#returning-a-view-versus-a-copy\n",
      "  feats_target['EPS Growth Rate'][changes] = None\n"
     ]
    }
   ],
   "source": [
    "# delete growth rate between companies\n",
    "changes = feats_target['Ticker'].shift() != feats_target['Ticker']\n",
    "feats_target['EPS Growth Rate'][changes] = None"
   ],
   "metadata": {
    "collapsed": false,
    "pycharm": {
     "name": "#%%\n"
    }
   }
  },
  {
   "cell_type": "code",
   "execution_count": 8,
   "outputs": [],
   "source": [
    "feats_target['PEG'] = feats_target['PE'] / feats_target['EPS Growth Rate']"
   ],
   "metadata": {
    "collapsed": false,
    "pycharm": {
     "name": "#%%\n"
    }
   }
  },
  {
   "cell_type": "code",
   "execution_count": 9,
   "outputs": [],
   "source": [
    "feats_target['Market Cap'] = feats_target['Shares (Diluted)'] * feats_target['Adj. Close']"
   ],
   "metadata": {
    "collapsed": false,
    "pycharm": {
     "name": "#%%\n"
    }
   }
  },
  {
   "cell_type": "code",
   "execution_count": 10,
   "outputs": [],
   "source": [
    "feats_target['Price to Book'] = feats_target['Market Cap'] / feats_target['Total Equity']"
   ],
   "metadata": {
    "collapsed": false,
    "pycharm": {
     "name": "#%%\n"
    }
   }
  },
  {
   "cell_type": "code",
   "execution_count": 11,
   "outputs": [],
   "source": [
    "feats_target['Debt to Equity'] = feats_target['Total Liabilities'] / feats_target['Total Equity']"
   ],
   "metadata": {
    "collapsed": false,
    "pycharm": {
     "name": "#%%\n"
    }
   }
  },
  {
   "cell_type": "code",
   "execution_count": 12,
   "outputs": [],
   "source": [
    "# merge in industries for PE ratio"
   ],
   "metadata": {
    "collapsed": false,
    "pycharm": {
     "name": "#%%\n"
    }
   }
  },
  {
   "cell_type": "code",
   "execution_count": 13,
   "outputs": [],
   "source": [
    "companies = pd.read_csv('./data/us-companies.csv', sep=';')"
   ],
   "metadata": {
    "collapsed": false,
    "pycharm": {
     "name": "#%%\n"
    }
   }
  },
  {
   "cell_type": "code",
   "execution_count": 14,
   "outputs": [],
   "source": [
    "companies.drop(columns=['Company Name', 'SimFinId'], inplace=True)"
   ],
   "metadata": {
    "collapsed": false,
    "pycharm": {
     "name": "#%%\n"
    }
   }
  },
  {
   "cell_type": "code",
   "execution_count": 15,
   "outputs": [
    {
     "data": {
      "text/plain": "Index(['Unnamed: 0', 'Ticker', 'SimFinId', 'Currency', 'Fiscal Year',\n       'Fiscal Period', 'Report Date', 'Publish Date', 'Restated Date',\n       'Shares (Basic)', 'Shares (Diluted)', 'Net Income/Starting Line',\n       'Depreciation & Amortization', 'Non-Cash Items',\n       'Change in Working Capital', 'Change in Accounts Receivable',\n       'Change in Inventories', 'Change in Accounts Payable',\n       'Change in Other', 'Net Cash from Operating Activities',\n       'Change in Fixed Assets & Intangibles',\n       'Net Change in Long Term Investment',\n       'Net Cash from Acquisitions & Divestitures',\n       'Net Cash from Investing Activities', 'Dividends Paid',\n       'Cash from (Repayment of) Debt', 'Cash from (Repurchase of) Equity',\n       'Net Cash from Financing Activities', 'Net Change in Cash',\n       'Abnormal Gains (Losses)', 'Cost of Revenue', 'Gross Profit',\n       'Income (Loss) from Continuing Operations',\n       'Income Tax (Expense) Benefit, Net', 'Interest Expense, Net',\n       'Net Extraordinary Gains (Losses)', 'Net Income', 'Net Income (Common)',\n       'Non-Operating Income (Loss)', 'Operating Expenses',\n       'Operating Income (Loss)', 'Pretax Income (Loss)',\n       'Pretax Income (Loss), Adj.', 'Research & Development', 'Revenue',\n       'Selling, General & Administrative', 'Accounts & Notes Receivable',\n       'Cash, Cash Equivalents & Short Term Investments', 'Inventories',\n       'Long Term Debt', 'Long Term Investments & Receivables',\n       'Other Long Term Assets', 'Payables & Accruals',\n       'Property, Plant & Equipment, Net', 'Retained Earnings',\n       'Share Capital & Additional Paid-In Capital', 'Short Term Debt',\n       'Total Assets', 'Total Current Assets', 'Total Current Liabilities',\n       'Total Equity', 'Total Liabilities', 'Total Liabilities & Equity',\n       'Total Noncurrent Assets', 'Total Noncurrent Liabilities',\n       'Treasury Stock', 'Adj. Close', 'Year', 'EPS', 'PE', 'EPS Growth Rate',\n       'PEG', 'Market Cap', 'Price to Book', 'Debt to Equity', 'IndustryId'],\n      dtype='object')"
     },
     "execution_count": 15,
     "metadata": {},
     "output_type": "execute_result"
    }
   ],
   "source": [
    "feats_target_industry = pd.merge(feats_target, companies, how='outer',\n",
    "                                 left_on='Ticker', right_on='Ticker')\n",
    "\n",
    "feats_target_industry.columns"
   ],
   "metadata": {
    "collapsed": false,
    "pycharm": {
     "name": "#%%\n"
    }
   }
  },
  {
   "cell_type": "code",
   "execution_count": 16,
   "outputs": [],
   "source": [
    "cleaned = feats_target_industry[\n",
    "    ['Ticker', 'SimFinId', 'IndustryId', 'Fiscal Year', 'EPS', 'PE', 'EPS Growth Rate', 'PEG', 'Market Cap',\n",
    "     'Price to Book', 'Debt to Equity', 'Change in Working Capital', 'Selling, General & Administrative',\n",
    "     'Research & Development', 'Adj. Close']]"
   ],
   "metadata": {
    "collapsed": false,
    "pycharm": {
     "name": "#%%\n"
    }
   }
  },
  {
   "cell_type": "code",
   "execution_count": 17,
   "outputs": [
    {
     "name": "stdout",
     "output_type": "stream",
     "text": [
      "Entries before removing all nans: 20045\n",
      "Entries after removing all nans: 13067\n"
     ]
    }
   ],
   "source": [
    "print('Entries before removing all nans:', cleaned.shape[0])\n",
    "\n",
    "# get rid of entries where all relevant features are null\n",
    "cleaned = cleaned[cleaned['SimFinId'].notna() | cleaned['Fiscal Year'].notna() | cleaned['EPS'].notna() |\n",
    "                  cleaned['PE'].notna() | cleaned['EPS Growth Rate'].notna() | cleaned['PEG'].notna() |\n",
    "                  cleaned['Market Cap'].notna() | cleaned['Price to Book'].notna() | cleaned['Debt to Equity'].notna() |\n",
    "                  cleaned['Change in Working Capital'].notna() | cleaned['Selling, General & Administrative'].notna() |\n",
    "                  cleaned['Research & Development'].notna()]\n",
    "\n",
    "print('Entries after removing all nans:', cleaned.shape[0])"
   ],
   "metadata": {
    "collapsed": false,
    "pycharm": {
     "name": "#%%\n"
    }
   }
  },
  {
   "cell_type": "code",
   "execution_count": 21,
   "outputs": [],
   "source": [
    "sorted_by_close = cleaned.sort_values('Adj. Close', ascending=False)\n",
    "# cleaned.to_csv('final.csv')"
   ],
   "metadata": {
    "collapsed": false,
    "pycharm": {
     "name": "#%%\n"
    }
   }
  }
 ],
 "metadata": {
  "kernelspec": {
   "display_name": "Python 3",
   "language": "python",
   "name": "python3"
  },
  "language_info": {
   "codemirror_mode": {
    "name": "ipython",
    "version": 2
   },
   "file_extension": ".py",
   "mimetype": "text/x-python",
   "name": "python",
   "nbconvert_exporter": "python",
   "pygments_lexer": "ipython2",
   "version": "2.7.6"
  }
 },
 "nbformat": 4,
 "nbformat_minor": 0
}