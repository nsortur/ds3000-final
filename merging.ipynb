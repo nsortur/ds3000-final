{
 "cells": [
  {
   "cell_type": "code",
   "execution_count": 1,
   "metadata": {
    "collapsed": true
   },
   "outputs": [],
   "source": [
    "import pandas as pd"
   ]
  },
  {
   "cell_type": "code",
   "execution_count": 2,
   "outputs": [],
   "source": [
    "# this notebook merges data about us companies from multiple csvs, so we can calculate necessary ratios\n",
    "income = pd.read_csv('./data/us-income-annual.csv', sep=';')\n",
    "share_prices = pd.read_csv('./data/us-shareprices-daily.csv', sep=';')\n",
    "cashflow = pd.read_csv('./data/us-cashflow-annual.csv', sep=';')\n",
    "balance = pd.read_csv('./data/us-balance-annual.csv', sep=';')"
   ],
   "metadata": {
    "collapsed": false,
    "pycharm": {
     "name": "#%%\n"
    }
   }
  },
  {
   "cell_type": "code",
   "execution_count": 3,
   "outputs": [
    {
     "name": "stdout",
     "output_type": "stream",
     "text": [
      "Income contributing:\n",
      " Index(['Abnormal Gains (Losses)', 'Cost of Revenue', 'Gross Profit',\n",
      "       'Income (Loss) from Continuing Operations',\n",
      "       'Income Tax (Expense) Benefit, Net', 'Interest Expense, Net',\n",
      "       'Net Extraordinary Gains (Losses)', 'Net Income', 'Net Income (Common)',\n",
      "       'Non-Operating Income (Loss)', 'Operating Expenses',\n",
      "       'Operating Income (Loss)', 'Pretax Income (Loss)',\n",
      "       'Pretax Income (Loss), Adj.', 'Research & Development', 'Revenue',\n",
      "       'Selling, General & Administrative'],\n",
      "      dtype='object')\n"
     ]
    }
   ],
   "source": [
    "# income should only contribute unique features, and features to merge on\n",
    "unique_income_cols = income.columns.difference(cashflow.columns)\n",
    "print('Income contributing:\\n', unique_income_cols)\n",
    "unique_income_cols = unique_income_cols.insert(0, 'Ticker')\n",
    "unique_income_cols = unique_income_cols.insert(0, 'Fiscal Year')"
   ],
   "metadata": {
    "collapsed": false,
    "pycharm": {
     "name": "#%%\n"
    }
   }
  },
  {
   "cell_type": "code",
   "execution_count": 4,
   "outputs": [],
   "source": [
    "cashflow_income = pd.merge(cashflow, income[unique_income_cols], how='outer',\n",
    "                           left_on=['Ticker', 'Fiscal Year'],\n",
    "                           right_on=['Ticker', 'Fiscal Year'])"
   ],
   "metadata": {
    "collapsed": false,
    "pycharm": {
     "name": "#%%\n"
    }
   }
  },
  {
   "cell_type": "code",
   "execution_count": 5,
   "outputs": [
    {
     "name": "stdout",
     "output_type": "stream",
     "text": [
      "Balance contributing:\n",
      " Index(['Accounts & Notes Receivable',\n",
      "       'Cash, Cash Equivalents & Short Term Investments', 'Inventories',\n",
      "       'Long Term Debt', 'Long Term Investments & Receivables',\n",
      "       'Other Long Term Assets', 'Payables & Accruals',\n",
      "       'Property, Plant & Equipment, Net', 'Retained Earnings',\n",
      "       'Share Capital & Additional Paid-In Capital', 'Short Term Debt',\n",
      "       'Total Assets', 'Total Current Assets', 'Total Current Liabilities',\n",
      "       'Total Equity', 'Total Liabilities', 'Total Liabilities & Equity',\n",
      "       'Total Noncurrent Assets', 'Total Noncurrent Liabilities',\n",
      "       'Treasury Stock'],\n",
      "      dtype='object')\n"
     ]
    }
   ],
   "source": [
    "# balance should only contribute unique features, and features to merge on\n",
    "balance_unique_columns = balance.columns.difference(cashflow_income.columns)\n",
    "print('Balance contributing:\\n', balance_unique_columns)\n",
    "balance_unique_columns = balance_unique_columns.insert(0, 'Ticker')\n",
    "balance_unique_columns = balance_unique_columns.insert(0, 'Fiscal Year')"
   ],
   "metadata": {
    "collapsed": false,
    "pycharm": {
     "name": "#%%\n"
    }
   }
  },
  {
   "cell_type": "code",
   "execution_count": 6,
   "outputs": [],
   "source": [
    "cashflow_income_balance = pd.merge(cashflow_income, balance[balance_unique_columns], how='outer',\n",
    "                                   left_on=['Ticker', 'Fiscal Year'],\n",
    "                                   right_on=['Ticker', 'Fiscal Year'])"
   ],
   "metadata": {
    "collapsed": false,
    "pycharm": {
     "name": "#%%\n"
    }
   }
  },
  {
   "cell_type": "code",
   "execution_count": 14,
   "outputs": [
    {
     "data": {
      "text/plain": "Index(['Ticker', 'SimFinId', 'Fiscal Year', 'Report Date', 'Shares (Basic)',\n       'Shares (Diluted)', 'Net Income/Starting Line',\n       'Change in Working Capital', 'Net Change in Long Term Investment',\n       'Net Change in Cash', 'Cost of Revenue', 'Gross Profit', 'Net Income',\n       'Operating Expenses', 'Operating Income (Loss)', 'Pretax Income (Loss)',\n       'Pretax Income (Loss), Adj.', 'Research & Development', 'Revenue',\n       'Selling, General & Administrative',\n       'Cash, Cash Equivalents & Short Term Investments', 'Long Term Debt',\n       'Long Term Investments & Receivables', 'Retained Earnings',\n       'Share Capital & Additional Paid-In Capital', 'Short Term Debt',\n       'Total Assets', 'Total Current Assets', 'Total Current Liabilities',\n       'Total Equity', 'Total Liabilities', 'Total Liabilities & Equity',\n       'Total Noncurrent Assets', 'Total Noncurrent Liabilities',\n       'Treasury Stock'],\n      dtype='object')"
     },
     "execution_count": 14,
     "metadata": {},
     "output_type": "execute_result"
    }
   ],
   "source": [
    "not_needed = ['Currency', 'Fiscal Period', 'Publish Date', 'Restated Date',\n",
    "              'Depreciation & Amortization', 'Non-Cash Items', 'Change in Accounts Receivable',\n",
    "              'Change in Inventories', 'Change in Accounts Payable', 'Change in Other',\n",
    "              'Net Cash from Operating Activities', 'Change in Fixed Assets & Intangibles',\n",
    "              'Net Cash from Acquisitions & Divestitures', 'Net Cash from Investing Activities', 'Dividends Paid',\n",
    "              'Cash from (Repayment of) Debt', 'Cash from (Repurchase of) Equity', 'Net Cash from Financing Activities',\n",
    "              'Abnormal Gains (Losses)', 'Income (Loss) from Continuing Operations',\n",
    "              'Income Tax (Expense) Benefit, Net',\n",
    "              'Interest Expense, Net', 'Net Extraordinary Gains (Losses)', 'Net Income (Common)',\n",
    "              'Non-Operating Income (Loss)', 'Accounts & Notes Receivable', 'Inventories', 'Other Long Term Assets',\n",
    "              'Payables & Accruals', 'Property, Plant & Equipment, Net']\n",
    "needed_feats = cashflow_income_balance.drop(columns=not_needed)\n",
    "print('Needed features to calculate ratios:\\n:', needed_feats.columns.to_list())"
   ],
   "metadata": {
    "collapsed": false,
    "pycharm": {
     "name": "#%%\n"
    }
   }
  },
  {
   "cell_type": "code",
   "execution_count": 8,
   "outputs": [],
   "source": [
    "cashflow_income_balance.to_csv('cashflow_income_balance_feats.csv')"
   ],
   "metadata": {
    "collapsed": false,
    "pycharm": {
     "name": "#%%\n"
    }
   }
  },
  {
   "cell_type": "code",
   "execution_count": 17,
   "outputs": [],
   "source": [
    "# merge in adjusted closing prices on december 31\n",
    "shareprices = pd.read_csv('./data/us-shareprices-daily.csv', sep=';')"
   ],
   "metadata": {
    "collapsed": false,
    "pycharm": {
     "name": "#%%\n"
    }
   }
  },
  {
   "cell_type": "code",
   "execution_count": 24,
   "outputs": [
    {
     "name": "stderr",
     "output_type": "stream",
     "text": [
      "<ipython-input-24-de3da5f1a556>:3: SettingWithCopyWarning: \n",
      "A value is trying to be set on a copy of a slice from a DataFrame.\n",
      "Try using .loc[row_indexer,col_indexer] = value instead\n",
      "\n",
      "See the caveats in the documentation: https://pandas.pydata.org/pandas-docs/stable/user_guide/indexing.html#returning-a-view-versus-a-copy\n",
      "  shareprices_filtered['Year'] = shareprices_filtered['Date'].str.slice(0, 4)\n",
      "<ipython-input-24-de3da5f1a556>:4: SettingWithCopyWarning: \n",
      "A value is trying to be set on a copy of a slice from a DataFrame.\n",
      "Try using .loc[row_indexer,col_indexer] = value instead\n",
      "\n",
      "See the caveats in the documentation: https://pandas.pydata.org/pandas-docs/stable/user_guide/indexing.html#returning-a-view-versus-a-copy\n",
      "  shareprices_filtered['Year'] = shareprices_filtered['Year'].astype(int)\n",
      "/Library/Frameworks/Python.framework/Versions/3.9/lib/python3.9/site-packages/pandas/core/frame.py:4167: SettingWithCopyWarning: \n",
      "A value is trying to be set on a copy of a slice from a DataFrame\n",
      "\n",
      "See the caveats in the documentation: https://pandas.pydata.org/pandas-docs/stable/user_guide/indexing.html#returning-a-view-versus-a-copy\n",
      "  return super().drop(\n"
     ]
    }
   ],
   "source": [
    "adj_close = shareprices[['Ticker', 'SimFinId', 'Date', 'Adj. Close']]\n",
    "shareprices_filtered = adj_close[adj_close['Date'].str.endswith('12-31')]\n",
    "shareprices_filtered['Year'] = shareprices_filtered['Date'].str.slice(0, 4)\n",
    "shareprices_filtered['Year'] = shareprices_filtered['Year'].astype(int)\n",
    "shareprices_filtered.drop(columns=['Date', 'SimFinId'], inplace=True)"
   ],
   "metadata": {
    "collapsed": false,
    "pycharm": {
     "name": "#%%\n"
    }
   }
  },
  {
   "cell_type": "code",
   "execution_count": 40,
   "outputs": [
    {
     "data": {
      "text/plain": "0"
     },
     "execution_count": 40,
     "metadata": {},
     "output_type": "execute_result"
    }
   ],
   "source": [
    "# no data from 2011, 2016, 2017\n",
    "\n",
    "(shareprices_filtered['Year'] == 2017).sum()"
   ],
   "metadata": {
    "collapsed": false,
    "pycharm": {
     "name": "#%%\n"
    }
   }
  },
  {
   "cell_type": "code",
   "execution_count": 49,
   "outputs": [
    {
     "name": "stderr",
     "output_type": "stream",
     "text": [
      "<ipython-input-49-8589638311b3>:2: UserWarning: Boolean Series key will be reindexed to match DataFrame index.\n",
      "  cashflow_income_balance_without_missing = cashflow_income_balance_without_missing[cashflow_income_balance['Fiscal Year'] != 2016]\n",
      "<ipython-input-49-8589638311b3>:3: UserWarning: Boolean Series key will be reindexed to match DataFrame index.\n",
      "  cashflow_income_balance_without_missing = cashflow_income_balance_without_missing[cashflow_income_balance['Fiscal Year'] != 2017]\n"
     ]
    }
   ],
   "source": [
    "cashflow_income_balance_without_missing = cashflow_income_balance[cashflow_income_balance['Fiscal Year'] != 2011]\n",
    "cashflow_income_balance_without_missing = cashflow_income_balance_without_missing[\n",
    "    cashflow_income_balance['Fiscal Year'] != 2016]\n",
    "cashflow_income_balance_without_missing = cashflow_income_balance_without_missing[\n",
    "    cashflow_income_balance['Fiscal Year'] != 2017]"
   ],
   "metadata": {
    "collapsed": false,
    "pycharm": {
     "name": "#%%\n"
    }
   }
  },
  {
   "cell_type": "code",
   "execution_count": 50,
   "outputs": [],
   "source": [
    "cashflow_income_balance_shareprices = pd.merge(cashflow_income_balance_without_missing, shareprices_filtered,\n",
    "                                               how='outer',\n",
    "                                               left_on=['Ticker', 'Fiscal Year'],\n",
    "                                               right_on=['Ticker', 'Year'])"
   ],
   "metadata": {
    "collapsed": false,
    "pycharm": {
     "name": "#%%\n"
    }
   }
  },
  {
   "cell_type": "code",
   "execution_count": 51,
   "outputs": [],
   "source": [
    "# drop companies without closing prices\n",
    "cashflow_income_balance_shareprices_x = cashflow_income_balance_shareprices[\n",
    "    cashflow_income_balance_shareprices['Adj. Close'].notna()]"
   ],
   "metadata": {
    "collapsed": false,
    "pycharm": {
     "name": "#%%\n"
    }
   }
  },
  {
   "cell_type": "code",
   "execution_count": 52,
   "outputs": [],
   "source": [
    "cashflow_income_balance_shareprices_x.to_csv('features_target_before_ratios.csv')"
   ],
   "metadata": {
    "collapsed": false,
    "pycharm": {
     "name": "#%%\n"
    }
   }
  }
 ],
 "metadata": {
  "kernelspec": {
   "display_name": "Python 3",
   "language": "python",
   "name": "python3"
  },
  "language_info": {
   "codemirror_mode": {
    "name": "ipython",
    "version": 2
   },
   "file_extension": ".py",
   "mimetype": "text/x-python",
   "name": "python",
   "nbconvert_exporter": "python",
   "pygments_lexer": "ipython2",
   "version": "2.7.6"
  }
 },
 "nbformat": 4,
 "nbformat_minor": 0
}